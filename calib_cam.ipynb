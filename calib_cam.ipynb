{
 "cells": [
  {
   "cell_type": "code",
   "execution_count": 1,
   "metadata": {},
   "outputs": [
    {
     "name": "stdout",
     "output_type": "stream",
     "text": [
      "(array([[[303., 137.],\n",
      "        [484., 142.],\n",
      "        [479., 324.],\n",
      "        [298., 319.]]], dtype=float32),)\n"
     ]
    },
    {
     "data": {
      "text/plain": [
       "-1"
      ]
     },
     "execution_count": 1,
     "metadata": {},
     "output_type": "execute_result"
    }
   ],
   "source": [
    "#code to compute the focal length of the camera\n",
    "import cv2 as cv\n",
    "import math\n",
    "\n",
    "image = cv.imread(r'D:\\padipu\\MSc\\GroupProject\\sample_codes\\vision_follow\\aurucco\\Calib.jpg')\n",
    "dictionary = cv.aruco.getPredefinedDictionary(cv.aruco.DICT_ARUCO_ORIGINAL)\n",
    "Parameters =  cv.aruco.DetectorParameters()\n",
    "markerCorners, markerIds, rejectedCandidates = cv.aruco.detectMarkers(image, dictionary, parameters=Parameters)\n",
    "print(markerCorners)\n",
    "if(markerIds is not None):\n",
    "    p1 = (int(markerCorners[0][0][0][0]), int(markerCorners[0][0][0][1]))\n",
    "    p2 = (int(markerCorners[0][0][1][0]), int(markerCorners[0][0][1][1]))\n",
    "    p3 = (int(markerCorners[0][0][2][0]), int(markerCorners[0][0][2][1]))\n",
    "    p4 = (int(markerCorners[0][0][3][0]), int(markerCorners[0][0][3][1]))\n",
    "    cv.circle(image, p1, 2, (0, 0, 255), 2)\n",
    "    cv.circle(image, p2, 2, (0, 0, 255), 2)\n",
    "    cv.circle(image, p3, 2, (0, 0, 255), 2)\n",
    "    cv.circle(image, p4, 2, (0, 0, 255), 2)\n",
    "cv.namedWindow(\"sample\")\n",
    "cv.imshow('sample', image)\n",
    "cv.waitKey(0)"
   ]
  },
  {
   "cell_type": "code",
   "execution_count": 2,
   "metadata": {},
   "outputs": [
    {
     "name": "stdout",
     "output_type": "stream",
     "text": [
      "181.06904760339356 182.0686683644388 181.06904760339356 182.0686683644388\n",
      "181.5688579839162\n"
     ]
    }
   ],
   "source": [
    "#Compute the pixel distance\n",
    "d1 = math.sqrt((p2[0] - p1[0]) ** 2 + (p2[1] - p1[1]) ** 2)\n",
    "d2 = math.sqrt((p3[0] - p2[0]) ** 2 + (p3[1] - p2[1]) ** 2)\n",
    "d3 = math.sqrt((p4[0] - p3[0]) ** 2 + (p4[1] - p3[1]) ** 2)\n",
    "d4 = math.sqrt((p1[0] - p4[0]) ** 2 + (p1[1] - p4[1]) ** 2)\n",
    "print(d1, d2, d3, d4)\n",
    "d_avg = 0.25 * (d1 + d2 + d3 + d4)\n",
    "print(d_avg)"
   ]
  },
  {
   "cell_type": "code",
   "execution_count": 3,
   "metadata": {},
   "outputs": [
    {
     "name": "stdout",
     "output_type": "stream",
     "text": [
      "689.9616603388815\n"
     ]
    }
   ],
   "source": [
    "#Compute focal length \n",
    "\n",
    "marker_width = 180 #Width of the marker (overall in mm)\n",
    "sep_distance = 684\n",
    "f = (sep_distance * d_avg ) / marker_width\n",
    "print(f)"
   ]
  }
 ],
 "metadata": {
  "kernelspec": {
   "display_name": "Python 3",
   "language": "python",
   "name": "python3"
  },
  "language_info": {
   "codemirror_mode": {
    "name": "ipython",
    "version": 3
   },
   "file_extension": ".py",
   "mimetype": "text/x-python",
   "name": "python",
   "nbconvert_exporter": "python",
   "pygments_lexer": "ipython3",
   "version": "3.10.5"
  },
  "orig_nbformat": 4
 },
 "nbformat": 4,
 "nbformat_minor": 2
}
